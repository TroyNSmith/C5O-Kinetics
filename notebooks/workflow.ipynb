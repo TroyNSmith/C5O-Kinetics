{
 "cells": [
  {
   "cell_type": "markdown",
   "id": "7cd3e8f7",
   "metadata": {},
   "source": [
    "## Generate an initial structure"
   ]
  },
  {
   "cell_type": "code",
   "execution_count": null,
   "id": "a376d040",
   "metadata": {},
   "outputs": [],
   "source": [
    "smiles = \"C=CCC1CO1\""
   ]
  },
  {
   "cell_type": "code",
   "execution_count": 22,
   "id": "bdb12e50",
   "metadata": {},
   "outputs": [
    {
     "name": "stdout",
     "output_type": "stream",
     "text": [
      "Copy the bash command and run it in the terminal to perform the optimization.\n",
      "Make sure to check that the structure is correct!\n"
     ]
    },
    {
     "name": "stderr",
     "output_type": "stream",
     "text": [
      "[16:54:21] SMILES Parse Error: Failed parsing SMILES 'CdblCCC1CO1' for input: 'CdblCCC1CO1'\n"
     ]
    },
    {
     "ename": "ArgumentError",
     "evalue": "Python argument types in\n    rdkit.Chem.rdmolops.AddHs(NoneType)\ndid not match C++ signature:\n    AddHs(RDKit::ROMol mol, bool explicitOnly=False, bool addCoords=False, boost::python::api::object onlyOnAtoms=None, bool addResidueInfo=False)\n    AddHs(RDKit::ROMol mol, RDKit::MolOps::AddHsParameters params, boost::python::api::object onlyOnAtoms=None)",
     "output_type": "error",
     "traceback": [
      "\u001b[31m---------------------------------------------------------------------------\u001b[39m",
      "\u001b[31mArgumentError\u001b[39m                             Traceback (most recent call last)",
      "\u001b[36mCell\u001b[39m\u001b[36m \u001b[39m\u001b[32mIn[22]\u001b[39m\u001b[32m, line 13\u001b[39m\n\u001b[32m      8\u001b[39m \u001b[38;5;28;01mfrom\u001b[39;00m\u001b[38;5;250m \u001b[39m\u001b[34;01mprotopilot\u001b[39;00m\u001b[34;01m.\u001b[39;00m\u001b[34;01mio\u001b[39;00m\u001b[38;5;250m \u001b[39m\u001b[38;5;28;01mimport\u001b[39;00m optimize\n\u001b[32m     10\u001b[39m \u001b[38;5;28mprint\u001b[39m(\n\u001b[32m     11\u001b[39m     \u001b[33m\"\u001b[39m\u001b[33mCopy the bash command and run it in the terminal to perform the optimization.\u001b[39m\u001b[38;5;130;01m\\n\u001b[39;00m\u001b[33mMake sure to check that the structure is correct!\u001b[39m\u001b[33m\"\u001b[39m\n\u001b[32m     12\u001b[39m )\n\u001b[32m---> \u001b[39m\u001b[32m13\u001b[39m par_dir = \u001b[43moptimize\u001b[49m\u001b[43m.\u001b[49m\u001b[43mwrite\u001b[49m\u001b[43m(\u001b[49m\n\u001b[32m     14\u001b[39m \u001b[43m    \u001b[49m\u001b[43msmiles_string\u001b[49m\u001b[43m=\u001b[49m\u001b[43msmiles\u001b[49m\u001b[43m,\u001b[49m\n\u001b[32m     15\u001b[39m \u001b[43m)\u001b[49m\n\u001b[32m     17\u001b[39m mol = Chem.MolFromSmiles(smiles)\n\u001b[32m     18\u001b[39m img = Draw.MolToImage(\n\u001b[32m     19\u001b[39m     mol,\n\u001b[32m     20\u001b[39m     molsPerRow=\u001b[32m1\u001b[39m,\n\u001b[32m     21\u001b[39m     subImgSize=(\u001b[32m200\u001b[39m, \u001b[32m200\u001b[39m),\n\u001b[32m     22\u001b[39m )\n",
      "\u001b[36mFile \u001b[39m\u001b[32m~/C5O-Kinetics/src/protopilot/io/optimize.py:57\u001b[39m, in \u001b[36mwrite\u001b[39m\u001b[34m(smiles_string, initial_xyz, transition_state, multiplicity, charge)\u001b[39m\n\u001b[32m     55\u001b[39m \u001b[38;5;66;03m# --- Prepare molecule and properties\u001b[39;00m\n\u001b[32m     56\u001b[39m \u001b[38;5;28;01mif\u001b[39;00m smiles_string:\n\u001b[32m---> \u001b[39m\u001b[32m57\u001b[39m     mol_format = \u001b[43mChem\u001b[49m\u001b[43m.\u001b[49m\u001b[43mAddHs\u001b[49m\u001b[43m(\u001b[49m\u001b[43mChem\u001b[49m\u001b[43m.\u001b[49m\u001b[43mMolFromSmiles\u001b[49m\u001b[43m(\u001b[49m\u001b[43msmiles_string\u001b[49m\u001b[43m)\u001b[49m\u001b[43m)\u001b[49m\n\u001b[32m     58\u001b[39m     AllChem.EmbedMolecule(mol_format)\n\u001b[32m     59\u001b[39m     charge = Chem.GetFormalCharge(mol_format)\n",
      "\u001b[31mArgumentError\u001b[39m: Python argument types in\n    rdkit.Chem.rdmolops.AddHs(NoneType)\ndid not match C++ signature:\n    AddHs(RDKit::ROMol mol, bool explicitOnly=False, bool addCoords=False, boost::python::api::object onlyOnAtoms=None, bool addResidueInfo=False)\n    AddHs(RDKit::ROMol mol, RDKit::MolOps::AddHsParameters params, boost::python::api::object onlyOnAtoms=None)"
     ]
    }
   ],
   "source": [
    "from rdkit import Chem\n",
    "from rdkit.Chem import Draw\n",
    "\n",
    "import sys\n",
    "\n",
    "sys.path.append(\"../src/protopilot\")\n",
    "\n",
    "from protopilot.io import optimize\n",
    "\n",
    "print(\n",
    "    \"Copy the bash command and run it in the terminal to perform the optimization.\\nMake sure to check that the structure is correct!\"\n",
    ")\n",
    "par_dir = optimize.write(\n",
    "    smiles_string=smiles,\n",
    ")\n",
    "\n",
    "mol = Chem.MolFromSmiles(smiles)\n",
    "img = Draw.MolToImage(\n",
    "    mol,\n",
    "    molsPerRow=1,\n",
    "    subImgSize=(200, 200),\n",
    ")\n",
    "\n",
    "display(img)"
   ]
  },
  {
   "cell_type": "markdown",
   "id": "da677ce4",
   "metadata": {},
   "source": [
    "## Once the initial structure has finished optimization (up to REVDSD)\n",
    "\n",
    "1. Indicate a smiles string to reference the transition structure. Then, review the images and indicate involved atom indices for the reaction."
   ]
  },
  {
   "cell_type": "code",
   "execution_count": 1,
   "id": "cbb310dc",
   "metadata": {},
   "outputs": [],
   "source": [
    "trans_smiles = \"[CH2]C1~CO1\""
   ]
  },
  {
   "cell_type": "code",
   "execution_count": 11,
   "id": "735febaf",
   "metadata": {},
   "outputs": [
    {
     "ename": "NameError",
     "evalue": "name 'par_dir' is not defined",
     "output_type": "error",
     "traceback": [
      "\u001b[31m---------------------------------------------------------------------------\u001b[39m",
      "\u001b[31mNameError\u001b[39m                                 Traceback (most recent call last)",
      "\u001b[36mCell\u001b[39m\u001b[36m \u001b[39m\u001b[32mIn[11]\u001b[39m\u001b[32m, line 5\u001b[39m\n\u001b[32m      2\u001b[39m \u001b[38;5;28;01mimport\u001b[39;00m\u001b[38;5;250m \u001b[39m\u001b[34;01mpy3Dmol\u001b[39;00m\n\u001b[32m      4\u001b[39m trans_smiles = trans_smiles.replace(\u001b[33m\"\u001b[39m\u001b[33m/\u001b[39m\u001b[33m\"\u001b[39m, \u001b[33m\"\u001b[39m\u001b[33m~\u001b[39m\u001b[33m\"\u001b[39m)\n\u001b[32m----> \u001b[39m\u001b[32m5\u001b[39m revdsd_matches = [path \u001b[38;5;28;01mfor\u001b[39;00m path \u001b[38;5;129;01min\u001b[39;00m (\u001b[43mpar_dir\u001b[49m / \u001b[33m\"\u001b[39m\u001b[33mREVDSD\u001b[39m\u001b[33m\"\u001b[39m).rglob(\u001b[33m\"\u001b[39m\u001b[33mREVDSD.xyz\u001b[39m\u001b[33m\"\u001b[39m)]\n\u001b[32m      6\u001b[39m \u001b[38;5;28;01mif\u001b[39;00m \u001b[38;5;28mlen\u001b[39m(revdsd_matches) > \u001b[32m1\u001b[39m:\n\u001b[32m      7\u001b[39m     \u001b[38;5;28;01mraise\u001b[39;00m \u001b[38;5;167;01mValueError\u001b[39;00m(\n\u001b[32m      8\u001b[39m         \u001b[33mf\u001b[39m\u001b[33m\"\u001b[39m\u001b[33mMultiple XTB.allxyz files found in \u001b[39m\u001b[38;5;132;01m{\u001b[39;00mpar_dir\u001b[38;5;132;01m}\u001b[39;00m\u001b[33m/REVDSD. Please check the directory.\u001b[39m\u001b[33m\"\u001b[39m\n\u001b[32m      9\u001b[39m     )\n",
      "\u001b[31mNameError\u001b[39m: name 'par_dir' is not defined"
     ]
    }
   ],
   "source": [
    "from pathlib import Path\n",
    "import py3Dmol\n",
    "\n",
    "trans_smiles = trans_smiles.replace(\"/\", \"~\")\n",
    "revdsd_matches = [path for path in (par_dir / \"REVDSD\").rglob(\"REVDSD.xyz\")]\n",
    "if len(revdsd_matches) > 1:\n",
    "    raise ValueError(\n",
    "        f\"Multiple XTB.allxyz files found in {par_dir}/REVDSD. Please check the directory.\"\n",
    "    )\n",
    "else:\n",
    "    inter_xyz = Path(revdsd_matches[0])\n",
    "\n",
    "natoms = int(inter_xyz.read_text().split()[0])\n",
    "natoms = int(inter_xyz.read_text().split()[0])\n",
    "\n",
    "# Draw transition state structure\n",
    "mol = Chem.MolFromSmiles(trans_smiles)\n",
    "img = Draw.MolToImage(\n",
    "    mol,\n",
    "    molsPerRow=1,\n",
    "    subImgSize=(600, 600),\n",
    ")\n",
    "display(img)\n",
    "\n",
    "# Animate optimized structure\n",
    "viewer = py3Dmol.view()\n",
    "viewer.addModel(inter_xyz.read_text(), \"xyz\")\n",
    "viewer.setStyle({\"stick\": {}, \"sphere\": {\"scale\": 0.3}})\n",
    "\n",
    "for i in range(natoms):\n",
    "    viewer.addLabel(\n",
    "        i,\n",
    "        {\n",
    "            \"backgroundOpacity\": 0,\n",
    "            \"fontColor\": \"blue\",\n",
    "            \"alignment\": \"center\",\n",
    "            \"inFront\": True,\n",
    "        },\n",
    "        {\"index\": i},\n",
    "    )\n",
    "\n",
    "viewer.zoomTo()\n",
    "viewer.show()"
   ]
  },
  {
   "cell_type": "code",
   "execution_count": 1,
   "id": "a1c84615",
   "metadata": {},
   "outputs": [],
   "source": [
    "reaction_indices = [1, 2]  # [indice_1, indice_2]\n",
    "charge = 0\n",
    "multiplicity = 2  # 1 if neutral, 2+ if radical\n",
    "min_scan_dist = 0.1  # minimum distance for scan\n",
    "max_scan_dist = 1.5  # maximum distance for scan"
   ]
  },
  {
   "cell_type": "code",
   "execution_count": 6,
   "id": "d001e69d",
   "metadata": {},
   "outputs": [
    {
     "ename": "NameError",
     "evalue": "name 'inter_xyz' is not defined",
     "output_type": "error",
     "traceback": [
      "\u001b[31m---------------------------------------------------------------------------\u001b[39m",
      "\u001b[31mNameError\u001b[39m                                 Traceback (most recent call last)",
      "\u001b[36mCell\u001b[39m\u001b[36m \u001b[39m\u001b[32mIn[6]\u001b[39m\u001b[32m, line 8\u001b[39m\n\u001b[32m      5\u001b[39m sys.path.append(\u001b[38;5;28mstr\u001b[39m(Path.home() / \u001b[33m\"\u001b[39m\u001b[33mC5O-Kinetics\u001b[39m\u001b[33m\"\u001b[39m))\n\u001b[32m      6\u001b[39m \u001b[38;5;28;01mfrom\u001b[39;00m\u001b[38;5;250m \u001b[39m\u001b[34;01msrc\u001b[39;00m\u001b[34;01m.\u001b[39;00m\u001b[34;01mprotopilot\u001b[39;00m\u001b[34;01m.\u001b[39;00m\u001b[34;01mio\u001b[39;00m\u001b[34;01m.\u001b[39;00m\u001b[34;01mtransition\u001b[39;00m\u001b[38;5;250m \u001b[39m\u001b[38;5;28;01mimport\u001b[39;00m write_scan\n\u001b[32m----> \u001b[39m\u001b[32m8\u001b[39m mol = Chem.MolFromXYZFile(\u001b[38;5;28mstr\u001b[39m(\u001b[43minter_xyz\u001b[49m))\n\u001b[32m     10\u001b[39m n_steps = \u001b[38;5;28mabs\u001b[39m(max_scan_dist - min_scan_dist) // \u001b[32m0.05\u001b[39m + \u001b[32m1\u001b[39m\n\u001b[32m     12\u001b[39m \u001b[38;5;66;03m# --- Get 3D coordinates\u001b[39;00m\n",
      "\u001b[31mNameError\u001b[39m: name 'inter_xyz' is not defined"
     ]
    }
   ],
   "source": [
    "import sys\n",
    "from pathlib import Path\n",
    "import numpy as np\n",
    "\n",
    "sys.path.append(str(Path.home() / \"C5O-Kinetics\"))\n",
    "from src.protopilot.io.transition import write_scan\n",
    "\n",
    "mol = Chem.MolFromXYZFile(str(inter_xyz))\n",
    "\n",
    "n_steps = abs(max_scan_dist - min_scan_dist) // 0.05 + 1\n",
    "\n",
    "# --- Get 3D coordinates\n",
    "with open(inter_xyz) as f:\n",
    "    lines = f.readlines()\n",
    "coords = []\n",
    "for line in lines[2:]:  # skip first two lines of xyz\n",
    "    parts = line.split()\n",
    "    if len(parts) >= 4:\n",
    "        coords.append([float(parts[1]), float(parts[2]), float(parts[3])])\n",
    "coords = np.array(coords)\n",
    "bond_len = np.linalg.norm(\n",
    "    coords[reaction_indices[0], :] - coords[reaction_indices[1], :]\n",
    ")\n",
    "\n",
    "rxn_coordinates = f\"B {reaction_indices[0]} {reaction_indices[1]} = {(bond_len + min_scan_dist):.2f}, {(bond_len + max_scan_dist):.2f}, {n_steps}\\n\"\n",
    "print(rxn_coordinates)\n",
    "write_scan(\n",
    "    intermediate_xyz=str(inter_xyz),\n",
    "    trans_smiles=trans_smiles,\n",
    "    scan_coordinates=f\"B_{reaction_indices[0]} {reaction_indices[1]}\",\n",
    "    rxn_coordinates=rxn_coordinates,\n",
    "    charge=charge,\n",
    "    multiplicity=multiplicity,\n",
    ")"
   ]
  }
 ],
 "metadata": {
  "kernelspec": {
   "display_name": "default",
   "language": "python",
   "name": "python3"
  },
  "language_info": {
   "codemirror_mode": {
    "name": "ipython",
    "version": 3
   },
   "file_extension": ".py",
   "mimetype": "text/x-python",
   "name": "python",
   "nbconvert_exporter": "python",
   "pygments_lexer": "ipython3",
   "version": "3.12.11"
  }
 },
 "nbformat": 4,
 "nbformat_minor": 5
}
