{
 "cells": [
  {
   "cell_type": "code",
   "execution_count": null,
   "id": "bf16baf8",
   "metadata": {},
   "outputs": [
    {
     "data": {
      "application/vnd.jupyter.widget-view+json": {
       "model_id": "147d05897e43422dbf882a1997691055",
       "version_major": 2,
       "version_minor": 0
      },
      "text/plain": [
       "HBox(children=(Combobox(value='O=O', layout=Layout(height='30', width='30%'), options=('C=C', 'O=O')), Dropdow…"
      ]
     },
     "metadata": {},
     "output_type": "display_data"
    },
    {
     "data": {
      "text/plain": [
       "[]"
      ]
     },
     "metadata": {},
     "output_type": "display_data"
    }
   ],
   "source": [
    "from IPython.display import clear_output\n",
    "import ipywidgets as widgets\n",
    "from protomol.util import render\n",
    "from protomol.util.backend import Append_SQL, Query_SQL, Styles\n",
    "\n",
    "\n",
    "def on_methods_upd(u):\n",
    "    functionals_opts = Query_SQL.functionals(methods_cbo.value)\n",
    "    functionals_cbo.options = functionals_opts\n",
    "\n",
    "\n",
    "def on_query_btn(b):\n",
    "    clear_output()\n",
    "    display(header_box)\n",
    "    if smiles_cbo.value not in smiles_cbo.options:\n",
    "        display(write_smiles_box)\n",
    "        render.from_smiles(smiles_cbo.value, add_labels=True)\n",
    "    else:\n",
    "        xyzs = Query_SQL.xyzs(smiles_cbo.value, methods_cbo.value)\n",
    "        if len(xyzs) == 0:\n",
    "            display(\"Hola!\")\n",
    "        else:\n",
    "            render.from_xyz_block(xyzs[0])\n",
    "\n",
    "\n",
    "def on_write_smiles_btn(b):\n",
    "    Append_SQL.smiles(smiles_cbo.value, multip_int.value)\n",
    "    clear_output()\n",
    "    display(\n",
    "        f\"Added {smiles_cbo.value} with multiplicity {multip_int.value} to data.db. Please restart.\"\n",
    "    )\n",
    "\n",
    "\n",
    "# Header box\n",
    "smiles_cbo = widgets.Combobox(\n",
    "    options=Query_SQL.smiles(), layout=Styles.scale_width(\"30%\")\n",
    ")\n",
    "methods_cbo = widgets.Dropdown(\n",
    "    options=Query_SQL.methods(), layout=Styles.scale_width(\"20%\")\n",
    ")\n",
    "methods_cbo.observe(on_methods_upd)\n",
    "functionals_cbo = widgets.Dropdown(\n",
    "    options=Query_SQL.functionals(methods_cbo.value),\n",
    "    layout=Styles.scale_width(\"30%\"),\n",
    ")\n",
    "query_btn = widgets.Button(description=\"Submit Query\", layout=Styles.scale_width(\"20%\"))\n",
    "query_btn.on_click(on_query_btn)\n",
    "header_box = widgets.HBox([smiles_cbo, methods_cbo, functionals_cbo, query_btn])\n",
    "\n",
    "# New SMILES box\n",
    "multip_int = widgets.IntText(\n",
    "    description=\"Multiplicity: \", layout=Styles.scale_width(\"20%\")\n",
    ")\n",
    "write_smiles_btn = widgets.Button(\n",
    "    description=\"Write SMILES to database\", layout=Styles.scale_width(\"20%\")\n",
    ")\n",
    "write_smiles_btn.on_click(on_write_smiles_btn)\n",
    "write_smiles_box = widgets.HBox([multip_int, write_smiles_btn])\n",
    "\n",
    "display(header_box)\n"
   ]
  },
  {
   "cell_type": "code",
   "execution_count": 4,
   "id": "5efd79ef",
   "metadata": {},
   "outputs": [],
   "source": [
    "functional = \"CCSD(T)-F12/RI\"\n",
    "basis = \"cc-pVDZ-F12 cc-pVDZ-F12-CABS cc-pVTZ/c\"\n",
    "method = \"CALC\"\n",
    "inp_template = (\n",
    "    \"%PAL NPROCS [num_cpus] END\\n\"\n",
    "    \"%maxcore [mem_per_cpu]\\n\"\n",
    "    \"! CCSD(T)-F12/RI cc-pVDZ-F12 cc-pVDZ-F12-CABS cc-pVTZ/c\\n\"\n",
    "    \"* xyzfile 0 [multiplicity] init.xyz\\n\"\n",
    ")\n",
    "submit_template = (\n",
    "    \"#!/bin/bash\\n\"\n",
    "    \"#SBATCH --partition=batch\\n\"\n",
    "    \"#SBATCH --gres=lscratch:[lscratch_size]\\n\"\n",
    "    \"#SBATCH --job-name=[SMILES]_CALC\\n\"\n",
    "    \"#SBATCH --nodes=1\\n\"\n",
    "    \"#SBATCH --ntasks=[num_cpus]\\n\"\n",
    "    \"#SBATCH --ntasks-per-node=[num_cpus]\\n\"\n",
    "    \"#SBATCH --cpus-per-task=1\\n\"\n",
    "    \"#SBATCH --time=[time_requested]\\n\"\n",
    "    \"#SBATCH --mem-per-cpu=[mem_per_cpu]G\\n\\n\"\n",
    "    \"cd ${SLURM_SUBMIT_DIR}\\n\"\n",
    "    \"mkdir -p /lscratch/${USER}/${SLURM_JOB_ID}\\n\"\n",
    "    'cp -r \"${SLURM_SUBMIT_DIR}/.\" /lscratch/${USER}/${SLURM_JOB_ID}\\n'\n",
    "    \"cd /lscratch/${USER}/${SLURM_JOB_ID}\\n\\n\"\n",
    "    \"module load ORCA/6.1\\n\"\n",
    "    \"$(which orca) CALC.inp > CALC.log\\n\"\n",
    "    \"cp -r /lscratch/${USER}/${SLURM_JOB_ID} ${SLURM_SUBMIT_DIR}\\n\"\n",
    "    \"rm -rf /lscratch/${USER}/${SLURM_JOB_ID}\\n\"\n",
    ")\n",
    "\n",
    "Append_SQL._method(functional, basis, method, inp_template, submit_template)"
   ]
  }
 ],
 "metadata": {
  "kernelspec": {
   "display_name": "default",
   "language": "python",
   "name": "python3"
  },
  "language_info": {
   "codemirror_mode": {
    "name": "ipython",
    "version": 3
   },
   "file_extension": ".py",
   "mimetype": "text/x-python",
   "name": "python",
   "nbconvert_exporter": "python",
   "pygments_lexer": "ipython3",
   "version": "3.12.11"
  }
 },
 "nbformat": 4,
 "nbformat_minor": 5
}
