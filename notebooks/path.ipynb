{
 "cells": [
  {
   "cell_type": "markdown",
   "id": "80380707",
   "metadata": {},
   "source": [
    "## Generate an initial optimized structure"
   ]
  },
  {
   "cell_type": "code",
   "execution_count": 4,
   "id": "359d442c",
   "metadata": {},
   "outputs": [],
   "source": [
    "smiles = \"[CH2]C=O\""
   ]
  },
  {
   "cell_type": "code",
   "execution_count": null,
   "id": "be612f66",
   "metadata": {},
   "outputs": [
    {
     "name": "stdout",
     "output_type": "stream",
     "text": [
      "Copy the bash command and run it in the terminal to perform the optimization.\n",
      "Make sure to check that the structure is correct!\n"
     ]
    },
    {
     "ename": "FileExistsError",
     "evalue": "Directory /home/tns97255/C5O-Kinetics/calc/_CH2_CdblO/Optimization/run already exists.",
     "output_type": "error",
     "traceback": [
      "\u001b[31m---------------------------------------------------------------------------\u001b[39m",
      "\u001b[31mFileExistsError\u001b[39m                           Traceback (most recent call last)",
      "\u001b[36mCell\u001b[39m\u001b[36m \u001b[39m\u001b[32mIn[5]\u001b[39m\u001b[32m, line 13\u001b[39m\n\u001b[32m      8\u001b[39m \u001b[38;5;28;01mfrom\u001b[39;00m\u001b[38;5;250m \u001b[39m\u001b[34;01mprotopilot\u001b[39;00m\u001b[34;01m.\u001b[39;00m\u001b[34;01mio\u001b[39;00m\u001b[38;5;250m \u001b[39m\u001b[38;5;28;01mimport\u001b[39;00m optimize\n\u001b[32m     10\u001b[39m \u001b[38;5;28mprint\u001b[39m(\n\u001b[32m     11\u001b[39m     \u001b[33m\"\u001b[39m\u001b[33mCopy the bash command and run it in the terminal to perform the optimization.\u001b[39m\u001b[38;5;130;01m\\n\u001b[39;00m\u001b[33mMake sure to check that the structure is correct!\u001b[39m\u001b[33m\"\u001b[39m\n\u001b[32m     12\u001b[39m )\n\u001b[32m---> \u001b[39m\u001b[32m13\u001b[39m par_dir = \u001b[43moptimize\u001b[49m\u001b[43m.\u001b[49m\u001b[43mwrite\u001b[49m\u001b[43m(\u001b[49m\n\u001b[32m     14\u001b[39m \u001b[43m    \u001b[49m\u001b[43msmiles_string\u001b[49m\u001b[43m=\u001b[49m\u001b[43msmiles\u001b[49m\u001b[43m,\u001b[49m\n\u001b[32m     15\u001b[39m \u001b[43m)\u001b[49m\n\u001b[32m     17\u001b[39m mol = Chem.MolFromSmiles(smiles)\n\u001b[32m     18\u001b[39m img = Draw.MolToImage(\n\u001b[32m     19\u001b[39m     mol,\n\u001b[32m     20\u001b[39m     molsPerRow=\u001b[32m1\u001b[39m,\n\u001b[32m     21\u001b[39m     subImgSize=(\u001b[32m200\u001b[39m, \u001b[32m200\u001b[39m),\n\u001b[32m     22\u001b[39m )\n",
      "\u001b[36mFile \u001b[39m\u001b[32m~/C5O-Kinetics/src/protopilot/io/optimize.py:39\u001b[39m, in \u001b[36mwrite\u001b[39m\u001b[34m(smiles_string, initial_xyz, transition_state, multiplicity, charge)\u001b[39m\n\u001b[32m     37\u001b[39m par_dir = Path.home() / \u001b[33mf\u001b[39m\u001b[33m\"\u001b[39m\u001b[33mC5O-Kinetics/calc/\u001b[39m\u001b[38;5;132;01m{\u001b[39;00mname\u001b[38;5;132;01m}\u001b[39;00m\u001b[33m/Optimization/run\u001b[39m\u001b[33m\"\u001b[39m\n\u001b[32m     38\u001b[39m \u001b[38;5;28;01mif\u001b[39;00m par_dir.exists():\n\u001b[32m---> \u001b[39m\u001b[32m39\u001b[39m     \u001b[38;5;28;01mraise\u001b[39;00m \u001b[38;5;167;01mFileExistsError\u001b[39;00m(\u001b[33mf\u001b[39m\u001b[33m\"\u001b[39m\u001b[33mDirectory \u001b[39m\u001b[38;5;132;01m{\u001b[39;00mpar_dir\u001b[38;5;132;01m}\u001b[39;00m\u001b[33m already exists.\u001b[39m\u001b[33m\"\u001b[39m)\n\u001b[32m     40\u001b[39m initial_dir = par_dir / \u001b[33m\"\u001b[39m\u001b[33mGuess\u001b[39m\u001b[33m\"\u001b[39m\n\u001b[32m     41\u001b[39m initial_dir.mkdir(parents=\u001b[38;5;28;01mTrue\u001b[39;00m, exist_ok=\u001b[38;5;28;01mTrue\u001b[39;00m)\n",
      "\u001b[31mFileExistsError\u001b[39m: Directory /home/tns97255/C5O-Kinetics/calc/_CH2_CdblO/Optimization/run already exists."
     ]
    }
   ],
   "source": [
    "from rdkit import Chem\n",
    "from rdkit.Chem import Draw\n",
    "\n",
    "import sys\n",
    "\n",
    "sys.path.append(\"../src/protopilot\")\n",
    "\n",
    "from protopilot.io import optimize\n",
    "\n",
    "par_dir = optimize.write(\n",
    "    smiles_string=smiles,\n",
    ")\n",
    "\n",
    "mol = Chem.MolFromSmiles(smiles)\n",
    "img = Draw.MolToImage(\n",
    "    mol,\n",
    "    molsPerRow=1,\n",
    "    subImgSize=(200, 200),\n",
    ")\n",
    "\n",
    "display(img)"
   ]
  },
  {
   "cell_type": "markdown",
   "id": "ad69e60d",
   "metadata": {},
   "source": [
    "## Define the transition state smiles string and the path to the optimized structure preceding the transition"
   ]
  },
  {
   "cell_type": "code",
   "execution_count": null,
   "id": "8bd30d08",
   "metadata": {},
   "outputs": [],
   "source": [
    "from pathlib import Path\n",
    "import sys\n",
    "\n",
    "sys.path.append(str(Path.home() / \"C5O-Kinetics\"))\n",
    "import altair as alt\n",
    "import numpy as np\n",
    "import pandas as pd\n",
    "import py3Dmol\n",
    "import pyparsing as pp\n",
    "from pyparsing import pyparsing_common as ppc\n",
    "from rdkit import Chem\n",
    "from src.protopilot.io.transition import write_opt, write_scan\n",
    "from src.protopilot.visualizations.smiles import visualize_smiles\n",
    "from src.protopilot.visualizations.xyz import animate_xyz, labelled_3d_structure\n",
    "\n",
    "import glob as glob\n",
    "import re\n",
    "import sys"
   ]
  },
  {
   "cell_type": "code",
   "execution_count": 2,
   "id": "b7468df6",
   "metadata": {},
   "outputs": [],
   "source": [
    "trans_smiles = \"[CH2]O~C=C\"\n",
    "folder_name = \"_CH2_OCdblC\""
   ]
  },
  {
   "cell_type": "markdown",
   "id": "06bbef8d",
   "metadata": {},
   "source": [
    "### Visualize the transition state and optimized structure, then define the scan coordinates"
   ]
  },
  {
   "cell_type": "code",
   "execution_count": 3,
   "id": "f609999b",
   "metadata": {},
   "outputs": [
    {
     "data": {
      "image/jpeg": "[encoded data removed]",
      "image/png": "[encoded data removed]",
      "text/plain": [
       "<PIL.PngImagePlugin.PngImageFile image mode=RGB size=300x300>"
      ]
     },
     "metadata": {},
     "output_type": "display_data"
    },
    {
     "data": {
      "application/3dmoljs_load.v0": "<div id=\"3dmolviewer_17559208496699674\"  style=\"position: relative; width: 400px; height: 400px;\">\n        <p id=\"3dmolwarning_17559208496699674\" style=\"background-color:#ffcccc;color:black\">3Dmol.js failed to load for some reason.  Please check your browser console for error messages.<br></p>\n        </div>\n<script>\n\nvar loadScriptAsync = function(uri){\n  return new Promise((resolve, reject) => {\n    //this is to ignore the existence of requirejs amd\n    var savedexports, savedmodule;\n    if (typeof exports !== 'undefined') savedexports = exports;\n    else exports = {}\n    if (typeof module !== 'undefined') savedmodule = module;\n    else module = {}\n\n    var tag = document.createElement('script');\n    tag.src = uri;\n    tag.async = true;\n    tag.onload = () => {\n        exports = savedexports;\n        module = savedmodule;\n        resolve();\n    };\n  var firstScriptTag = document.getElementsByTagName('script')[0];\n  firstScriptTag.parentNode.insertBefore(tag, firstScriptTag);\n});\n};\n\nif(typeof $3Dmolpromise === 'undefined') {\n$3Dmolpromise = null;\n  $3Dmolpromise = loadScriptAsync('https://cdn.jsdelivr.net/npm/3dmol@2.5.2/build/3Dmol-min.js');\n}\n\nvar viewer_17559208496699674 = null;\nvar warn = document.getElementById(\"3dmolwarning_17559208496699674\");\nif(warn) {\n    warn.parentNode.removeChild(warn);\n}\n$3Dmolpromise.then(function() {\nviewer_17559208496699674 = $3Dmol.createViewer(document.getElementById(\"3dmolviewer_17559208496699674\"),{backgroundColor:\"white\"});\nviewer_17559208496699674.zoomTo();\n\tviewer_17559208496699674.addModel(\"9\\nCoordinates from ORCA-job REVDSD E -192.172723934520\\n  C          -1.51815177559006     -0.15630298725623     -0.57903613105861\\n  O          -0.83760606648286      0.51499002820158      0.38799680717412\\n  C           0.52814563264496      0.47113195298342      0.36266707558042\\n  C           1.29259377758113     -0.34539813162658     -0.36064421180274\\n  H          -2.58638967192635     -0.11498369268301     -0.44259253195068\\n  H          -1.06973137471556     -0.21331246423323     -1.56222016650474\\n  H           0.93471749158199      1.20679298318877      1.04297089056840\\n  H           2.36532743178592     -0.25527248987742     -0.27406287195809\\n  H           0.89109455512083     -1.10764519869729     -1.01164386004808\\n\",\"xyz\");\n\tviewer_17559208496699674.setStyle({\"stick\": {}, \"sphere\": {\"scale\": 0.3}});\n\tviewer_17559208496699674.addLabel(0,{\"backgroundOpacity\": 0, \"fontColor\": \"blue\", \"alignment\": \"center\", \"inFront\": true},{\"index\": 0});\n\tviewer_17559208496699674.addLabel(1,{\"backgroundOpacity\": 0, \"fontColor\": \"blue\", \"alignment\": \"center\", \"inFront\": true},{\"index\": 1});\n\tviewer_17559208496699674.addLabel(2,{\"backgroundOpacity\": 0, \"fontColor\": \"blue\", \"alignment\": \"center\", \"inFront\": true},{\"index\": 2});\n\tviewer_17559208496699674.addLabel(3,{\"backgroundOpacity\": 0, \"fontColor\": \"blue\", \"alignment\": \"center\", \"inFront\": true},{\"index\": 3});\n\tviewer_17559208496699674.addLabel(4,{\"backgroundOpacity\": 0, \"fontColor\": \"blue\", \"alignment\": \"center\", \"inFront\": true},{\"index\": 4});\n\tviewer_17559208496699674.addLabel(5,{\"backgroundOpacity\": 0, \"fontColor\": \"blue\", \"alignment\": \"center\", \"inFront\": true},{\"index\": 5});\n\tviewer_17559208496699674.addLabel(6,{\"backgroundOpacity\": 0, \"fontColor\": \"blue\", \"alignment\": \"center\", \"inFront\": true},{\"index\": 6});\n\tviewer_17559208496699674.addLabel(7,{\"backgroundOpacity\": 0, \"fontColor\": \"blue\", \"alignment\": \"center\", \"inFront\": true},{\"index\": 7});\n\tviewer_17559208496699674.addLabel(8,{\"backgroundOpacity\": 0, \"fontColor\": \"blue\", \"alignment\": \"center\", \"inFront\": true},{\"index\": 8});\n\tviewer_17559208496699674.zoomTo();\nviewer_17559208496699674.render();\n});\n</script>",
      "text/html": [
       "<div id=\"3dmolviewer_17559208496699674\"  style=\"position: relative; width: 400px; height: 400px;\">\n",
       "        <p id=\"3dmolwarning_17559208496699674\" style=\"background-color:#ffcccc;color:black\">3Dmol.js failed to load for some reason.  Please check your browser console for error messages.<br></p>\n",
       "        </div>\n",
       "<script>\n",
       "\n",
       "var loadScriptAsync = function(uri){\n",
       "  return new Promise((resolve, reject) => {\n",
       "    //this is to ignore the existence of requirejs amd\n",
       "    var savedexports, savedmodule;\n",
       "    if (typeof exports !== 'undefined') savedexports = exports;\n",
       "    else exports = {}\n",
       "    if (typeof module !== 'undefined') savedmodule = module;\n",
       "    else module = {}\n",
       "\n",
       "    var tag = document.createElement('script');\n",
       "    tag.src = uri;\n",
       "    tag.async = true;\n",
       "    tag.onload = () => {\n",
       "        exports = savedexports;\n",
       "        module = savedmodule;\n",
       "        resolve();\n",
       "    };\n",
       "  var firstScriptTag = document.getElementsByTagName('script')[0];\n",
       "  firstScriptTag.parentNode.insertBefore(tag, firstScriptTag);\n",
       "});\n",
       "};\n",
       "\n",
       "if(typeof $3Dmolpromise === 'undefined') {\n",
       "$3Dmolpromise = null;\n",
       "  $3Dmolpromise = loadScriptAsync('https://cdn.jsdelivr.net/npm/3dmol@2.5.2/build/3Dmol-min.js');\n",
       "}\n",
       "\n",
       "var viewer_17559208496699674 = null;\n",
       "var warn = document.getElementById(\"3dmolwarning_17559208496699674\");\n",
       "if(warn) {\n",
       "    warn.parentNode.removeChild(warn);\n",
       "}\n",
       "$3Dmolpromise.then(function() {\n",
       "viewer_17559208496699674 = $3Dmol.createViewer(document.getElementById(\"3dmolviewer_17559208496699674\"),{backgroundColor:\"white\"});\n",
       "viewer_17559208496699674.zoomTo();\n",
       "\tviewer_17559208496699674.addModel(\"9\\nCoordinates from ORCA-job REVDSD E -192.172723934520\\n  C          -1.51815177559006     -0.15630298725623     -0.57903613105861\\n  O          -0.83760606648286      0.51499002820158      0.38799680717412\\n  C           0.52814563264496      0.47113195298342      0.36266707558042\\n  C           1.29259377758113     -0.34539813162658     -0.36064421180274\\n  H          -2.58638967192635     -0.11498369268301     -0.44259253195068\\n  H          -1.06973137471556     -0.21331246423323     -1.56222016650474\\n  H           0.93471749158199      1.20679298318877      1.04297089056840\\n  H           2.36532743178592     -0.25527248987742     -0.27406287195809\\n  H           0.89109455512083     -1.10764519869729     -1.01164386004808\\n\",\"xyz\");\n",
       "\tviewer_17559208496699674.setStyle({\"stick\": {}, \"sphere\": {\"scale\": 0.3}});\n",
       "\tviewer_17559208496699674.addLabel(0,{\"backgroundOpacity\": 0, \"fontColor\": \"blue\", \"alignment\": \"center\", \"inFront\": true},{\"index\": 0});\n",
       "\tviewer_17559208496699674.addLabel(1,{\"backgroundOpacity\": 0, \"fontColor\": \"blue\", \"alignment\": \"center\", \"inFront\": true},{\"index\": 1});\n",
       "\tviewer_17559208496699674.addLabel(2,{\"backgroundOpacity\": 0, \"fontColor\": \"blue\", \"alignment\": \"center\", \"inFront\": true},{\"index\": 2});\n",
       "\tviewer_17559208496699674.addLabel(3,{\"backgroundOpacity\": 0, \"fontColor\": \"blue\", \"alignment\": \"center\", \"inFront\": true},{\"index\": 3});\n",
       "\tviewer_17559208496699674.addLabel(4,{\"backgroundOpacity\": 0, \"fontColor\": \"blue\", \"alignment\": \"center\", \"inFront\": true},{\"index\": 4});\n",
       "\tviewer_17559208496699674.addLabel(5,{\"backgroundOpacity\": 0, \"fontColor\": \"blue\", \"alignment\": \"center\", \"inFront\": true},{\"index\": 5});\n",
       "\tviewer_17559208496699674.addLabel(6,{\"backgroundOpacity\": 0, \"fontColor\": \"blue\", \"alignment\": \"center\", \"inFront\": true},{\"index\": 6});\n",
       "\tviewer_17559208496699674.addLabel(7,{\"backgroundOpacity\": 0, \"fontColor\": \"blue\", \"alignment\": \"center\", \"inFront\": true},{\"index\": 7});\n",
       "\tviewer_17559208496699674.addLabel(8,{\"backgroundOpacity\": 0, \"fontColor\": \"blue\", \"alignment\": \"center\", \"inFront\": true},{\"index\": 8});\n",
       "\tviewer_17559208496699674.zoomTo();\n",
       "viewer_17559208496699674.render();\n",
       "});\n",
       "</script>"
      ]
     },
     "metadata": {},
     "output_type": "display_data"
    }
   ],
   "source": [
    "trans_smiles = trans_smiles.replace(\"/\", \"~\")\n",
    "allxyz_paths = [\n",
    "    path\n",
    "    for path in Path(\n",
    "        f\"/home/tns97255/C5O-Kinetics/calc/{folder_name}/Optimization/run/REVDSD/\"\n",
    "    ).rglob(\"REVDSD.xyz\")\n",
    "]\n",
    "if len(allxyz_paths) > 1:\n",
    "    raise ValueError(\n",
    "        f\"Multiple XTB.allxyz files found in {Path(f'/home/tns97255/C5O-Kinetics/calc/{folder_name}/Optimization/')}. Please check the directory.\"\n",
    "    )\n",
    "else:\n",
    "    inter_xyz = Path(allxyz_paths[0])\n",
    "\n",
    "visualize_smiles(trans_smiles)\n",
    "labelled_3d_structure(inter_xyz)\n"
   ]
  },
  {
   "cell_type": "code",
   "execution_count": 130,
   "id": "276fb043",
   "metadata": {},
   "outputs": [],
   "source": [
    "scan_coordinates = \"B\" + \" \" + \"1 2\"  # geom scan coordinates\n",
    "charge = 0\n",
    "multiplicity = 2  # 1 if neutral, 2+ if radical\n",
    "min_scan_dist = 0.1  # minimum distance for scan\n",
    "max_scan_dist = 1.6  # maximum distance for scan"
   ]
  },
  {
   "cell_type": "markdown",
   "id": "9c2b54f8",
   "metadata": {},
   "source": [
    "### Generate the scan .inp file"
   ]
  },
  {
   "cell_type": "code",
   "execution_count": 131,
   "id": "509cb403",
   "metadata": {},
   "outputs": [
    {
     "name": "stdout",
     "output_type": "stream",
     "text": [
      "B 1 2 = 1.47, 2.97, 30.0\n",
      "\n",
      "pixi run run_scan /home/tns97255/C5O-Kinetics/calc/_CH2_OCdblC/B_1_2/run/REVDSD_Scan\n"
     ]
    }
   ],
   "source": [
    "mol = Chem.MolFromXYZFile(str(inter_xyz))\n",
    "_, a1, a2 = scan_coordinates.split(\" \")\n",
    "idx1 = int(a1)\n",
    "idx2 = int(a2)\n",
    "\n",
    "n_steps = abs(max_scan_dist - min_scan_dist) // 0.05 + 1\n",
    "\n",
    "# --- Get 3D coordinates\n",
    "with open(inter_xyz) as f:\n",
    "    lines = f.readlines()\n",
    "coords = []\n",
    "for line in lines[2:]:  # skip first two lines of xyz\n",
    "    parts = line.split()\n",
    "    if len(parts) >= 4:\n",
    "        coords.append([float(parts[1]), float(parts[2]), float(parts[3])])\n",
    "coords = np.array(coords)\n",
    "bond_len = np.linalg.norm(coords[idx1, :] - coords[idx2, :])\n",
    "\n",
    "rxn_coordinates = (\n",
    "    scan_coordinates\n",
    "    + f\" = {(bond_len + min_scan_dist):.2f}, {(bond_len + max_scan_dist):.2f}, {n_steps}\\n\"\n",
    ")\n",
    "print(rxn_coordinates)\n",
    "write_scan(\n",
    "    intermediate_xyz=str(inter_xyz),\n",
    "    trans_smiles=trans_smiles,\n",
    "    scan_coordinates=scan_coordinates,\n",
    "    rxn_coordinates=rxn_coordinates,\n",
    "    charge=charge,\n",
    "    multiplicity=multiplicity,\n",
    ")"
   ]
  },
  {
   "cell_type": "markdown",
   "id": "b66b03b7",
   "metadata": {},
   "source": [
    "## Visualize to determine which transition structure is highest energy"
   ]
  },
  {
   "cell_type": "code",
   "execution_count": 126,
   "id": "ea936eb9",
   "metadata": {},
   "outputs": [],
   "source": [
    "max_step = 10\n",
    "xyz_path = Path(\"/home/tns97255/C5O-Kinetics/calc/_CH2_OCdblC/B_1_2\")"
   ]
  },
  {
   "cell_type": "code",
   "execution_count": 127,
   "id": "51a6fca4",
   "metadata": {},
   "outputs": [
    {
     "name": "stdout",
     "output_type": "stream",
     "text": [
      "Plot of energy vs. index\n"
     ]
    },
    {
     "data": {
      "text/html": [
       "\n",
       "<style>\n",
       "  #altair-viz-71f2684c8a524d68af9af8f6cb34be7a.vega-embed {\n",
       "    width: 100%;\n",
       "    display: flex;\n",
       "  }\n",
       "\n",
       "  #altair-viz-71f2684c8a524d68af9af8f6cb34be7a.vega-embed details,\n",
       "  #altair-viz-71f2684c8a524d68af9af8f6cb34be7a.vega-embed details summary {\n",
       "    position: relative;\n",
       "  }\n",
       "</style>\n",
       "<div id=\"altair-viz-71f2684c8a524d68af9af8f6cb34be7a\"></div>\n",
       "<script type=\"text/javascript\">\n",
       "  var VEGA_DEBUG = (typeof VEGA_DEBUG == \"undefined\") ? {} : VEGA_DEBUG;\n",
       "  (function(spec, embedOpt){\n",
       "    let outputDiv = document.currentScript.previousElementSibling;\n",
       "    if (outputDiv.id !== \"altair-viz-71f2684c8a524d68af9af8f6cb34be7a\") {\n",
       "      outputDiv = document.getElementById(\"altair-viz-71f2684c8a524d68af9af8f6cb34be7a\");\n",
       "    }\n",
       "\n",
       "    const paths = {\n",
       "      \"vega\": \"https://cdn.jsdelivr.net/npm/vega@5?noext\",\n",
       "      \"vega-lib\": \"https://cdn.jsdelivr.net/npm/vega-lib?noext\",\n",
       "      \"vega-lite\": \"https://cdn.jsdelivr.net/npm/vega-lite@5.20.1?noext\",\n",
       "      \"vega-embed\": \"https://cdn.jsdelivr.net/npm/vega-embed@6?noext\",\n",
       "    };\n",
       "\n",
       "    function maybeLoadScript(lib, version) {\n",
       "      var key = `${lib.replace(\"-\", \"\")}_version`;\n",
       "      return (VEGA_DEBUG[key] == version) ?\n",
       "        Promise.resolve(paths[lib]) :\n",
       "        new Promise(function(resolve, reject) {\n",
       "          var s = document.createElement('script');\n",
       "          document.getElementsByTagName(\"head\")[0].appendChild(s);\n",
       "          s.async = true;\n",
       "          s.onload = () => {\n",
       "            VEGA_DEBUG[key] = version;\n",
       "            return resolve(paths[lib]);\n",
       "          };\n",
       "          s.onerror = () => reject(`Error loading script: ${paths[lib]}`);\n",
       "          s.src = paths[lib];\n",
       "        });\n",
       "    }\n",
       "\n",
       "    function showError(err) {\n",
       "      outputDiv.innerHTML = `<div class=\"error\" style=\"color:red;\">${err}</div>`;\n",
       "      throw err;\n",
       "    }\n",
       "\n",
       "    function displayChart(vegaEmbed) {\n",
       "      vegaEmbed(outputDiv, spec, embedOpt)\n",
       "        .catch(err => showError(`Javascript Error: ${err.message}<br>This usually means there's a typo in your chart specification. See the javascript console for the full traceback.`));\n",
       "    }\n",
       "\n",
       "    if(typeof define === \"function\" && define.amd) {\n",
       "      requirejs.config({paths});\n",
       "      let deps = [\"vega-embed\"];\n",
       "      require(deps, displayChart, err => showError(`Error loading script: ${err.message}`));\n",
       "    } else {\n",
       "      maybeLoadScript(\"vega\", \"5\")\n",
       "        .then(() => maybeLoadScript(\"vega-lite\", \"5.20.1\"))\n",
       "        .then(() => maybeLoadScript(\"vega-embed\", \"6\"))\n",
       "        .catch(showError)\n",
       "        .then(() => displayChart(vegaEmbed));\n",
       "    }\n",
       "  })({\"config\": {\"view\": {\"continuousWidth\": 300, \"continuousHeight\": 300}}, \"data\": {\"name\": \"data-2001ac2ed1993aefebcd4992bdb00609\"}, \"mark\": {\"type\": \"point\"}, \"encoding\": {\"x\": {\"field\": \"index\", \"type\": \"quantitative\"}, \"y\": {\"field\": \"energy\", \"scale\": {\"zero\": false}, \"type\": \"quantitative\"}}, \"$schema\": \"https://vega.github.io/schema/vega-lite/v5.20.1.json\", \"datasets\": {\"data-2001ac2ed1993aefebcd4992bdb00609\": [{\"index\": 1, \"energy\": -192.167145425518}, {\"index\": 2, \"energy\": -192.16124950471}, {\"index\": 3, \"energy\": -192.154203203351}, {\"index\": 4, \"energy\": -192.146440345481}, {\"index\": 5, \"energy\": -192.138314617297}, {\"index\": 6, \"energy\": -192.130090704125}, {\"index\": 7, \"energy\": -192.121956205908}, {\"index\": 8, \"energy\": -192.113779771614}, {\"index\": 9, \"energy\": -192.105364850133}, {\"index\": 10, \"energy\": -192.094495960407}]}}, {\"mode\": \"vega-lite\"});\n",
       "</script>"
      ],
      "text/plain": [
       "alt.Chart(...)"
      ]
     },
     "metadata": {},
     "output_type": "display_data"
    },
    {
     "name": "stdout",
     "output_type": "stream",
     "text": [
      "Maximum energy step: 10\n",
      "Visualization of the highest energy structure (index 10)\n"
     ]
    },
    {
     "data": {
      "application/3dmoljs_load.v0": "<div id=\"3dmolviewer_1755920399874335\"  style=\"position: relative; width: 640px; height: 480px;\">\n        <p id=\"3dmolwarning_1755920399874335\" style=\"background-color:#ffcccc;color:black\">3Dmol.js failed to load for some reason.  Please check your browser console for error messages.<br></p>\n        </div>\n<script>\n\nvar loadScriptAsync = function(uri){\n  return new Promise((resolve, reject) => {\n    //this is to ignore the existence of requirejs amd\n    var savedexports, savedmodule;\n    if (typeof exports !== 'undefined') savedexports = exports;\n    else exports = {}\n    if (typeof module !== 'undefined') savedmodule = module;\n    else module = {}\n\n    var tag = document.createElement('script');\n    tag.src = uri;\n    tag.async = true;\n    tag.onload = () => {\n        exports = savedexports;\n        module = savedmodule;\n        resolve();\n    };\n  var firstScriptTag = document.getElementsByTagName('script')[0];\n  firstScriptTag.parentNode.insertBefore(tag, firstScriptTag);\n});\n};\n\nif(typeof $3Dmolpromise === 'undefined') {\n$3Dmolpromise = null;\n  $3Dmolpromise = loadScriptAsync('https://cdn.jsdelivr.net/npm/3dmol@2.5.2/build/3Dmol-min.js');\n}\n\nvar viewer_1755920399874335 = null;\nvar warn = document.getElementById(\"3dmolwarning_1755920399874335\");\nif(warn) {\n    warn.parentNode.removeChild(warn);\n}\n$3Dmolpromise.then(function() {\nviewer_1755920399874335 = $3Dmol.createViewer(document.getElementById(\"3dmolviewer_1755920399874335\"),{backgroundColor:\"white\"});\nviewer_1755920399874335.zoomTo();\n\tviewer_1755920399874335.addModel(\"9\\n\\nC     -1.585738   -0.201272   -0.581830\\nO     -1.113669    0.499973    0.478275\\nC      0.828752    0.546235    0.425669\\nC      1.364333   -0.349678   -0.363236\\nH     -2.669346   -0.189389   -0.644378\\nH     -1.034044   -0.218363   -1.520679\\nH      1.013720    1.337231    1.126168\\nH      2.445523   -0.384095   -0.432135\\nH      0.750469   -1.040641   -0.924418\\n\",\"xyz\");\n\tviewer_1755920399874335.setStyle({\"stick\": {}, \"sphere\": {\"scale\": 0.3}});\n\tviewer_1755920399874335.addLabel(0,{\"backgroundOpacity\": 0, \"fontColor\": \"blue\", \"alignment\": \"center\", \"inFront\": true},{\"index\": 0});\n\tviewer_1755920399874335.addLabel(1,{\"backgroundOpacity\": 0, \"fontColor\": \"blue\", \"alignment\": \"center\", \"inFront\": true},{\"index\": 1});\n\tviewer_1755920399874335.addLabel(2,{\"backgroundOpacity\": 0, \"fontColor\": \"blue\", \"alignment\": \"center\", \"inFront\": true},{\"index\": 2});\n\tviewer_1755920399874335.addLabel(3,{\"backgroundOpacity\": 0, \"fontColor\": \"blue\", \"alignment\": \"center\", \"inFront\": true},{\"index\": 3});\n\tviewer_1755920399874335.addLabel(4,{\"backgroundOpacity\": 0, \"fontColor\": \"blue\", \"alignment\": \"center\", \"inFront\": true},{\"index\": 4});\n\tviewer_1755920399874335.addLabel(5,{\"backgroundOpacity\": 0, \"fontColor\": \"blue\", \"alignment\": \"center\", \"inFront\": true},{\"index\": 5});\n\tviewer_1755920399874335.addLabel(6,{\"backgroundOpacity\": 0, \"fontColor\": \"blue\", \"alignment\": \"center\", \"inFront\": true},{\"index\": 6});\n\tviewer_1755920399874335.addLabel(7,{\"backgroundOpacity\": 0, \"fontColor\": \"blue\", \"alignment\": \"center\", \"inFront\": true},{\"index\": 7});\n\tviewer_1755920399874335.addLabel(8,{\"backgroundOpacity\": 0, \"fontColor\": \"blue\", \"alignment\": \"center\", \"inFront\": true},{\"index\": 8});\n\tviewer_1755920399874335.zoomTo();\nviewer_1755920399874335.render();\n});\n</script>",
      "text/html": [
       "<div id=\"3dmolviewer_1755920399874335\"  style=\"position: relative; width: 640px; height: 480px;\">\n",
       "        <p id=\"3dmolwarning_1755920399874335\" style=\"background-color:#ffcccc;color:black\">3Dmol.js failed to load for some reason.  Please check your browser console for error messages.<br></p>\n",
       "        </div>\n",
       "<script>\n",
       "\n",
       "var loadScriptAsync = function(uri){\n",
       "  return new Promise((resolve, reject) => {\n",
       "    //this is to ignore the existence of requirejs amd\n",
       "    var savedexports, savedmodule;\n",
       "    if (typeof exports !== 'undefined') savedexports = exports;\n",
       "    else exports = {}\n",
       "    if (typeof module !== 'undefined') savedmodule = module;\n",
       "    else module = {}\n",
       "\n",
       "    var tag = document.createElement('script');\n",
       "    tag.src = uri;\n",
       "    tag.async = true;\n",
       "    tag.onload = () => {\n",
       "        exports = savedexports;\n",
       "        module = savedmodule;\n",
       "        resolve();\n",
       "    };\n",
       "  var firstScriptTag = document.getElementsByTagName('script')[0];\n",
       "  firstScriptTag.parentNode.insertBefore(tag, firstScriptTag);\n",
       "});\n",
       "};\n",
       "\n",
       "if(typeof $3Dmolpromise === 'undefined') {\n",
       "$3Dmolpromise = null;\n",
       "  $3Dmolpromise = loadScriptAsync('https://cdn.jsdelivr.net/npm/3dmol@2.5.2/build/3Dmol-min.js');\n",
       "}\n",
       "\n",
       "var viewer_1755920399874335 = null;\n",
       "var warn = document.getElementById(\"3dmolwarning_1755920399874335\");\n",
       "if(warn) {\n",
       "    warn.parentNode.removeChild(warn);\n",
       "}\n",
       "$3Dmolpromise.then(function() {\n",
       "viewer_1755920399874335 = $3Dmol.createViewer(document.getElementById(\"3dmolviewer_1755920399874335\"),{backgroundColor:\"white\"});\n",
       "viewer_1755920399874335.zoomTo();\n",
       "\tviewer_1755920399874335.addModel(\"9\\n\\nC     -1.585738   -0.201272   -0.581830\\nO     -1.113669    0.499973    0.478275\\nC      0.828752    0.546235    0.425669\\nC      1.364333   -0.349678   -0.363236\\nH     -2.669346   -0.189389   -0.644378\\nH     -1.034044   -0.218363   -1.520679\\nH      1.013720    1.337231    1.126168\\nH      2.445523   -0.384095   -0.432135\\nH      0.750469   -1.040641   -0.924418\\n\",\"xyz\");\n",
       "\tviewer_1755920399874335.setStyle({\"stick\": {}, \"sphere\": {\"scale\": 0.3}});\n",
       "\tviewer_1755920399874335.addLabel(0,{\"backgroundOpacity\": 0, \"fontColor\": \"blue\", \"alignment\": \"center\", \"inFront\": true},{\"index\": 0});\n",
       "\tviewer_1755920399874335.addLabel(1,{\"backgroundOpacity\": 0, \"fontColor\": \"blue\", \"alignment\": \"center\", \"inFront\": true},{\"index\": 1});\n",
       "\tviewer_1755920399874335.addLabel(2,{\"backgroundOpacity\": 0, \"fontColor\": \"blue\", \"alignment\": \"center\", \"inFront\": true},{\"index\": 2});\n",
       "\tviewer_1755920399874335.addLabel(3,{\"backgroundOpacity\": 0, \"fontColor\": \"blue\", \"alignment\": \"center\", \"inFront\": true},{\"index\": 3});\n",
       "\tviewer_1755920399874335.addLabel(4,{\"backgroundOpacity\": 0, \"fontColor\": \"blue\", \"alignment\": \"center\", \"inFront\": true},{\"index\": 4});\n",
       "\tviewer_1755920399874335.addLabel(5,{\"backgroundOpacity\": 0, \"fontColor\": \"blue\", \"alignment\": \"center\", \"inFront\": true},{\"index\": 5});\n",
       "\tviewer_1755920399874335.addLabel(6,{\"backgroundOpacity\": 0, \"fontColor\": \"blue\", \"alignment\": \"center\", \"inFront\": true},{\"index\": 6});\n",
       "\tviewer_1755920399874335.addLabel(7,{\"backgroundOpacity\": 0, \"fontColor\": \"blue\", \"alignment\": \"center\", \"inFront\": true},{\"index\": 7});\n",
       "\tviewer_1755920399874335.addLabel(8,{\"backgroundOpacity\": 0, \"fontColor\": \"blue\", \"alignment\": \"center\", \"inFront\": true},{\"index\": 8});\n",
       "\tviewer_1755920399874335.zoomTo();\n",
       "viewer_1755920399874335.render();\n",
       "});\n",
       "</script>"
      ]
     },
     "metadata": {},
     "output_type": "display_data"
    }
   ],
   "source": [
    "try:\n",
    "    work_dir = xyz_path / \"run/REVDSD_Scan/\"\n",
    "except TypeError:\n",
    "    par_dir = Path(str(inter_xyz).split(\"Optimization\")[0])\n",
    "    work_dir = par_dir / f\"{scan_coordinates.replace(' ', '_')}/run/REVDSD_Scan/\"\n",
    "allxyz_paths = [path for path in work_dir.rglob(\"REVDSD.allxyz\")]\n",
    "if len(allxyz_paths) > 1:\n",
    "    raise ValueError(\n",
    "        f\"Multiple XTB.allxyz files found in {work_dir}. Please check the directory.\"\n",
    "    )\n",
    "else:\n",
    "    allxyz_path = allxyz_paths[0]\n",
    "\n",
    "comment = pp.Group(\n",
    "    pp.Keyword(\"Scan Step\")\n",
    "    + ppc.integer(\"index\")\n",
    "    + pp.Keyword(\"E\")\n",
    "    + ppc.fnumber(\"energy\")\n",
    ")\n",
    "expr = pp.OneOrMore(pp.SkipTo(comment, include=True))\n",
    "text = re.sub(\">\\n\", \"\", allxyz_path.read_text())\n",
    "\n",
    "indices = []\n",
    "energies = []\n",
    "results = expr.parse_string(text)\n",
    "for result in results[1::2]:\n",
    "    index, energy = result[1:4:2]\n",
    "    indices.append(index)\n",
    "    energies.append(energy)\n",
    "\n",
    "df = pd.DataFrame(\n",
    "    {\n",
    "        \"index\": indices,\n",
    "        \"energy\": energies,\n",
    "    }\n",
    ")\n",
    "\n",
    "print(\"Plot of energy vs. index\")\n",
    "alt.Chart(df).mark_point().encode(\n",
    "    x=\"index\",\n",
    "    y=alt.Y(\"energy\", scale=alt.Scale(zero=False)),\n",
    ").show()\n",
    "\n",
    "if max_step is None:\n",
    "    max_step = df[\"index\"][df[\"energy\"].idxmax()]\n",
    "\n",
    "print(f\"Maximum energy step: {max_step}\")\n",
    "\n",
    "max_scan_xyz_path = glob.glob(str(allxyz_path.parent / f\"REVDSD.*{max_step:03d}.xyz\"))[\n",
    "    0\n",
    "]\n",
    "\n",
    "xyz = Chem.MolToXYZBlock(Chem.MolFromXYZFile(max_scan_xyz_path))\n",
    "smiles = Chem.MolToSmiles(Chem.MolFromXYZBlock(xyz))\n",
    "\n",
    "natoms = int(allxyz_path.read_text().split()[0])\n",
    "\n",
    "viewer = py3Dmol.view()\n",
    "viewer.addModel(xyz, \"xyz\")\n",
    "viewer.setStyle({\"stick\": {}, \"sphere\": {\"scale\": 0.3}})\n",
    "\n",
    "for i in range(natoms):\n",
    "    viewer.addLabel(\n",
    "        i,\n",
    "        {\n",
    "            \"backgroundOpacity\": 0,\n",
    "            \"fontColor\": \"blue\",\n",
    "            \"alignment\": \"center\",\n",
    "            \"inFront\": True,\n",
    "        },\n",
    "        {\"index\": i},\n",
    "    )\n",
    "\n",
    "viewer.zoomTo()\n",
    "print(f\"Visualization of the highest energy structure (index {max_step})\")\n",
    "viewer.show()\n",
    "\n",
    "### Automatically find the path to the scan coordinates"
   ]
  },
  {
   "cell_type": "markdown",
   "id": "122e813a",
   "metadata": {},
   "source": [
    "### Write the optimization files"
   ]
  },
  {
   "cell_type": "code",
   "execution_count": 43,
   "id": "eda93d16",
   "metadata": {},
   "outputs": [
    {
     "name": "stdout",
     "output_type": "stream",
     "text": [
      "bash /home/tns97255/C5O-Kinetics/calc/_CH2_CCC1CO1/B_1_2/run/submit_opt.sh\n"
     ]
    }
   ],
   "source": [
    "write_opt(\n",
    "    transition_xyz=max_scan_xyz_path,\n",
    "    trans_smiles=trans_smiles,\n",
    "    charge=charge,\n",
    "    multiplicity=multiplicity,\n",
    ")"
   ]
  },
  {
   "cell_type": "markdown",
   "id": "24b00675",
   "metadata": {},
   "source": [
    "### Visualize the imaginary vibrational mode"
   ]
  },
  {
   "cell_type": "code",
   "execution_count": 109,
   "id": "47075b2c",
   "metadata": {},
   "outputs": [],
   "source": [
    "xyz_path = \"/home/tns97255/C5O-Kinetics/calc/_CH2_C1CO1/B_1_2/run/REVDSD/40244004/REVDSD.log.v006.xyz\""
   ]
  },
  {
   "cell_type": "code",
   "execution_count": null,
   "id": "6ca36323",
   "metadata": {},
   "outputs": [
    {
     "ename": "IsADirectoryError",
     "evalue": "[Errno 21] Is a directory: '/home/tns97255/C5O-Kinetics/calc/_CH2_OCdblC/B_1_2'",
     "output_type": "error",
     "traceback": [
      "\u001b[31m---------------------------------------------------------------------------\u001b[39m",
      "\u001b[31mIsADirectoryError\u001b[39m                         Traceback (most recent call last)",
      "\u001b[36mCell\u001b[39m\u001b[36m \u001b[39m\u001b[32mIn[132]\u001b[39m\u001b[32m, line 24\u001b[39m\n\u001b[32m     20\u001b[39m     viewer.animate({\u001b[33m\"\u001b[39m\u001b[33mloop\u001b[39m\u001b[33m\"\u001b[39m: \u001b[33m\"\u001b[39m\u001b[33mbackAndForth\u001b[39m\u001b[33m\"\u001b[39m})\n\u001b[32m     21\u001b[39m     viewer.show()\n\u001b[32m---> \u001b[39m\u001b[32m24\u001b[39m \u001b[43manimate_xyz\u001b[49m\u001b[43m(\u001b[49m\u001b[43mxyz_path\u001b[49m\u001b[43m)\u001b[49m\n",
      "\u001b[36mCell\u001b[39m\u001b[36m \u001b[39m\u001b[32mIn[132]\u001b[39m\u001b[32m, line 2\u001b[39m, in \u001b[36manimate_xyz\u001b[39m\u001b[34m(xyz_path)\u001b[39m\n\u001b[32m      1\u001b[39m \u001b[38;5;28;01mdef\u001b[39;00m\u001b[38;5;250m \u001b[39m\u001b[34manimate_xyz\u001b[39m(xyz_path):\n\u001b[32m----> \u001b[39m\u001b[32m2\u001b[39m     \u001b[38;5;28;01mwith\u001b[39;00m \u001b[38;5;28;43mopen\u001b[39;49m\u001b[43m(\u001b[49m\u001b[43mxyz_path\u001b[49m\u001b[43m,\u001b[49m\u001b[43m \u001b[49m\u001b[33;43m\"\u001b[39;49m\u001b[33;43mr\u001b[39;49m\u001b[33;43m\"\u001b[39;49m\u001b[43m)\u001b[49m \u001b[38;5;28;01mas\u001b[39;00m f:\n\u001b[32m      3\u001b[39m         xyz_text = \u001b[33m\"\u001b[39m\u001b[33m\"\u001b[39m.join(line \u001b[38;5;28;01mfor\u001b[39;00m line \u001b[38;5;129;01min\u001b[39;00m f \u001b[38;5;28;01mif\u001b[39;00m \u001b[33m\"\u001b[39m\u001b[33m>\u001b[39m\u001b[33m\"\u001b[39m \u001b[38;5;129;01mnot\u001b[39;00m \u001b[38;5;129;01min\u001b[39;00m line)\n\u001b[32m      4\u001b[39m     natoms = \u001b[38;5;28mint\u001b[39m(xyz_text.split()[\u001b[32m0\u001b[39m])\n",
      "\u001b[36mFile \u001b[39m\u001b[32m~/C5O-Kinetics/.pixi/envs/default/lib/python3.12/site-packages/IPython/core/interactiveshell.py:343\u001b[39m, in \u001b[36m_modified_open\u001b[39m\u001b[34m(file, *args, **kwargs)\u001b[39m\n\u001b[32m    336\u001b[39m \u001b[38;5;28;01mif\u001b[39;00m file \u001b[38;5;129;01min\u001b[39;00m {\u001b[32m0\u001b[39m, \u001b[32m1\u001b[39m, \u001b[32m2\u001b[39m}:\n\u001b[32m    337\u001b[39m     \u001b[38;5;28;01mraise\u001b[39;00m \u001b[38;5;167;01mValueError\u001b[39;00m(\n\u001b[32m    338\u001b[39m         \u001b[33mf\u001b[39m\u001b[33m\"\u001b[39m\u001b[33mIPython won\u001b[39m\u001b[33m'\u001b[39m\u001b[33mt let you open fd=\u001b[39m\u001b[38;5;132;01m{\u001b[39;00mfile\u001b[38;5;132;01m}\u001b[39;00m\u001b[33m by default \u001b[39m\u001b[33m\"\u001b[39m\n\u001b[32m    339\u001b[39m         \u001b[33m\"\u001b[39m\u001b[33mas it is likely to crash IPython. If you know what you are doing, \u001b[39m\u001b[33m\"\u001b[39m\n\u001b[32m    340\u001b[39m         \u001b[33m\"\u001b[39m\u001b[33myou can use builtins\u001b[39m\u001b[33m'\u001b[39m\u001b[33m open.\u001b[39m\u001b[33m\"\u001b[39m\n\u001b[32m    341\u001b[39m     )\n\u001b[32m--> \u001b[39m\u001b[32m343\u001b[39m \u001b[38;5;28;01mreturn\u001b[39;00m \u001b[43mio_open\u001b[49m\u001b[43m(\u001b[49m\u001b[43mfile\u001b[49m\u001b[43m,\u001b[49m\u001b[43m \u001b[49m\u001b[43m*\u001b[49m\u001b[43margs\u001b[49m\u001b[43m,\u001b[49m\u001b[43m \u001b[49m\u001b[43m*\u001b[49m\u001b[43m*\u001b[49m\u001b[43mkwargs\u001b[49m\u001b[43m)\u001b[49m\n",
      "\u001b[31mIsADirectoryError\u001b[39m: [Errno 21] Is a directory: '/home/tns97255/C5O-Kinetics/calc/_CH2_OCdblC/B_1_2'"
     ]
    }
   ],
   "source": [
    "animate_xyz(xyz_path)"
   ]
  }
 ],
 "metadata": {
  "kernelspec": {
   "display_name": "default",
   "language": "python",
   "name": "python3"
  },
  "language_info": {
   "codemirror_mode": {
    "name": "ipython",
    "version": 3
   },
   "file_extension": ".py",
   "mimetype": "text/x-python",
   "name": "python",
   "nbconvert_exporter": "python",
   "pygments_lexer": "ipython3",
   "version": "3.12.11"
  }
 },
 "nbformat": 4,
 "nbformat_minor": 5
}
