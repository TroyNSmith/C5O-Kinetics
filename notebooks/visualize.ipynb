{
 "cells": [
  {
   "cell_type": "code",
   "execution_count": 11,
   "id": "ed1e5c2c",
   "metadata": {},
   "outputs": [],
   "source": [
    "path = \"/home/tns97255/C5O-Kinetics/calc/_CH2_CCC1CO1/Scan_13_0/run/XTB/40415339/XTB.010.xyz\""
   ]
  },
  {
   "cell_type": "code",
   "execution_count": 12,
   "id": "16f37e90",
   "metadata": {},
   "outputs": [
    {
     "data": {
      "application/3dmoljs_load.v0": "<div id=\"3dmolviewer_17570065315095117\"  style=\"position: relative; width: 350px; height: 350px;\">\n        <p id=\"3dmolwarning_17570065315095117\" style=\"background-color:#ffcccc;color:black\">3Dmol.js failed to load for some reason.  Please check your browser console for error messages.<br></p>\n        </div>\n<script>\n\nvar loadScriptAsync = function(uri){\n  return new Promise((resolve, reject) => {\n    //this is to ignore the existence of requirejs amd\n    var savedexports, savedmodule;\n    if (typeof exports !== 'undefined') savedexports = exports;\n    else exports = {}\n    if (typeof module !== 'undefined') savedmodule = module;\n    else module = {}\n\n    var tag = document.createElement('script');\n    tag.src = uri;\n    tag.async = true;\n    tag.onload = () => {\n        exports = savedexports;\n        module = savedmodule;\n        resolve();\n    };\n  var firstScriptTag = document.getElementsByTagName('script')[0];\n  firstScriptTag.parentNode.insertBefore(tag, firstScriptTag);\n});\n};\n\nif(typeof $3Dmolpromise === 'undefined') {\n$3Dmolpromise = null;\n  $3Dmolpromise = loadScriptAsync('https://cdn.jsdelivr.net/npm/3dmol@2.5.2/build/3Dmol-min.js');\n}\n\nvar viewer_17570065315095117 = null;\nvar warn = document.getElementById(\"3dmolwarning_17570065315095117\");\nif(warn) {\n    warn.parentNode.removeChild(warn);\n}\n$3Dmolpromise.then(function() {\nviewer_17570065315095117 = $3Dmol.createViewer(document.getElementById(\"3dmolviewer_17570065315095117\"),{backgroundColor:\"white\"});\nviewer_17570065315095117.zoomTo();\n\tviewer_17570065315095117.addModel(\"15\\nCoordinates from ORCA-job XTB E -19.177506578090\\n  C          -0.83156958720140      1.20839180755554      0.23067401649137\\n  C          -1.14068206867800     -0.12986359311910     -0.42075400474203\\n  C          -0.03869929536419     -1.25229881757929     -0.32772065567101\\n  C           1.20469625066785     -0.42273267082011     -0.40546924981634\\n  C           1.35699097147392      0.37911056976919      0.83440106884910\\n  O           2.40865401817480     -0.36364530483619      0.29471926409114\\n  H          -0.99174789017925      2.06767938353980     -0.40239099057536\\n  H          -1.21630585274369      1.33130258871940      1.23272425732589\\n  H          -2.05882415864532     -0.53570015519449      0.01091541128897\\n  H          -1.31769889327006      0.04078993223900     -1.48406145093694\\n  H          -0.10207498249899     -1.79682653733582      0.61313755013560\\n  H          -0.16841346595775     -1.95267358196609     -1.15269997259755\\n  H           1.25951984593090      0.13493404035694     -1.34299249417280\\n  H           0.67049902513629      1.33960927095353      0.56636454387296\\n  H           0.96565708315490     -0.04807593228231      1.75315370645701\\n\",\"xyz\");\n\tviewer_17570065315095117.setStyle({\"stick\": {}, \"sphere\": {\"scale\": 0.3}});\n\tviewer_17570065315095117.zoomTo();\nviewer_17570065315095117.render();\n});\n</script>",
      "text/html": [
       "<div id=\"3dmolviewer_17570065315095117\"  style=\"position: relative; width: 350px; height: 350px;\">\n",
       "        <p id=\"3dmolwarning_17570065315095117\" style=\"background-color:#ffcccc;color:black\">3Dmol.js failed to load for some reason.  Please check your browser console for error messages.<br></p>\n",
       "        </div>\n",
       "<script>\n",
       "\n",
       "var loadScriptAsync = function(uri){\n",
       "  return new Promise((resolve, reject) => {\n",
       "    //this is to ignore the existence of requirejs amd\n",
       "    var savedexports, savedmodule;\n",
       "    if (typeof exports !== 'undefined') savedexports = exports;\n",
       "    else exports = {}\n",
       "    if (typeof module !== 'undefined') savedmodule = module;\n",
       "    else module = {}\n",
       "\n",
       "    var tag = document.createElement('script');\n",
       "    tag.src = uri;\n",
       "    tag.async = true;\n",
       "    tag.onload = () => {\n",
       "        exports = savedexports;\n",
       "        module = savedmodule;\n",
       "        resolve();\n",
       "    };\n",
       "  var firstScriptTag = document.getElementsByTagName('script')[0];\n",
       "  firstScriptTag.parentNode.insertBefore(tag, firstScriptTag);\n",
       "});\n",
       "};\n",
       "\n",
       "if(typeof $3Dmolpromise === 'undefined') {\n",
       "$3Dmolpromise = null;\n",
       "  $3Dmolpromise = loadScriptAsync('https://cdn.jsdelivr.net/npm/3dmol@2.5.2/build/3Dmol-min.js');\n",
       "}\n",
       "\n",
       "var viewer_17570065315095117 = null;\n",
       "var warn = document.getElementById(\"3dmolwarning_17570065315095117\");\n",
       "if(warn) {\n",
       "    warn.parentNode.removeChild(warn);\n",
       "}\n",
       "$3Dmolpromise.then(function() {\n",
       "viewer_17570065315095117 = $3Dmol.createViewer(document.getElementById(\"3dmolviewer_17570065315095117\"),{backgroundColor:\"white\"});\n",
       "viewer_17570065315095117.zoomTo();\n",
       "\tviewer_17570065315095117.addModel(\"15\\nCoordinates from ORCA-job XTB E -19.177506578090\\n  C          -0.83156958720140      1.20839180755554      0.23067401649137\\n  C          -1.14068206867800     -0.12986359311910     -0.42075400474203\\n  C          -0.03869929536419     -1.25229881757929     -0.32772065567101\\n  C           1.20469625066785     -0.42273267082011     -0.40546924981634\\n  C           1.35699097147392      0.37911056976919      0.83440106884910\\n  O           2.40865401817480     -0.36364530483619      0.29471926409114\\n  H          -0.99174789017925      2.06767938353980     -0.40239099057536\\n  H          -1.21630585274369      1.33130258871940      1.23272425732589\\n  H          -2.05882415864532     -0.53570015519449      0.01091541128897\\n  H          -1.31769889327006      0.04078993223900     -1.48406145093694\\n  H          -0.10207498249899     -1.79682653733582      0.61313755013560\\n  H          -0.16841346595775     -1.95267358196609     -1.15269997259755\\n  H           1.25951984593090      0.13493404035694     -1.34299249417280\\n  H           0.67049902513629      1.33960927095353      0.56636454387296\\n  H           0.96565708315490     -0.04807593228231      1.75315370645701\\n\",\"xyz\");\n",
       "\tviewer_17570065315095117.setStyle({\"stick\": {}, \"sphere\": {\"scale\": 0.3}});\n",
       "\tviewer_17570065315095117.zoomTo();\n",
       "viewer_17570065315095117.render();\n",
       "});\n",
       "</script>"
      ]
     },
     "metadata": {},
     "output_type": "display_data"
    }
   ],
   "source": [
    "from protomol.util.render import from_xyz_block\n",
    "\n",
    "from pathlib import Path\n",
    "\n",
    "xyz_block = Path(path).read_text()\n",
    "\n",
    "from_xyz_block(xyz_block)"
   ]
  }
 ],
 "metadata": {
  "kernelspec": {
   "display_name": "default",
   "language": "python",
   "name": "python3"
  },
  "language_info": {
   "codemirror_mode": {
    "name": "ipython",
    "version": 3
   },
   "file_extension": ".py",
   "mimetype": "text/x-python",
   "name": "python",
   "nbconvert_exporter": "python",
   "pygments_lexer": "ipython3",
   "version": "3.13.5"
  }
 },
 "nbformat": 4,
 "nbformat_minor": 5
}
