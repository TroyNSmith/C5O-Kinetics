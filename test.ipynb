{
 "cells": [
  {
   "cell_type": "code",
   "execution_count": 6,
   "id": "4af262c7",
   "metadata": {},
   "outputs": [
    {
     "name": "stdout",
     "output_type": "stream",
     "text": [
      "15\n",
      "\n",
      "C     -1.785893   -0.046706   -0.464863\n",
      "C     -0.937810   -0.333152    0.759089\n",
      "C      0.144316    0.727972    0.807356\n",
      "C      0.975441    0.659962   -0.435134\n",
      "C      1.722261   -0.581902   -0.780463\n",
      "O      0.542355   -0.244043   -1.421873\n",
      "H     -2.508157    0.772451   -0.256115\n",
      "H     -2.330991   -0.946844   -0.834617\n",
      "H     -0.452539   -1.325367    0.599703\n",
      "H     -1.495853   -0.266289    1.697996\n",
      "H      0.742671    0.679978    1.749723\n",
      "H     -0.418872    1.705993    0.774439\n",
      "H      1.457019    1.597570   -0.751818\n",
      "H      1.746728   -1.360872   -0.002450\n",
      "H      2.599325   -0.527081   -1.440972\n",
      "\n"
     ]
    },
    {
     "data": {
      "application/3dmoljs_load.v0": "<div id=\"3dmolviewer_1754928425451526\"  style=\"position: relative; width: 640px; height: 480px;\">\n        <p id=\"3dmolwarning_1754928425451526\" style=\"background-color:#ffcccc;color:black\">3Dmol.js failed to load for some reason.  Please check your browser console for error messages.<br></p>\n        </div>\n<script>\n\nvar loadScriptAsync = function(uri){\n  return new Promise((resolve, reject) => {\n    //this is to ignore the existence of requirejs amd\n    var savedexports, savedmodule;\n    if (typeof exports !== 'undefined') savedexports = exports;\n    else exports = {}\n    if (typeof module !== 'undefined') savedmodule = module;\n    else module = {}\n\n    var tag = document.createElement('script');\n    tag.src = uri;\n    tag.async = true;\n    tag.onload = () => {\n        exports = savedexports;\n        module = savedmodule;\n        resolve();\n    };\n  var firstScriptTag = document.getElementsByTagName('script')[0];\n  firstScriptTag.parentNode.insertBefore(tag, firstScriptTag);\n});\n};\n\nif(typeof $3Dmolpromise === 'undefined') {\n$3Dmolpromise = null;\n  $3Dmolpromise = loadScriptAsync('https://cdn.jsdelivr.net/npm/3dmol@2.5.2/build/3Dmol-min.js');\n}\n\nvar viewer_1754928425451526 = null;\nvar warn = document.getElementById(\"3dmolwarning_1754928425451526\");\nif(warn) {\n    warn.parentNode.removeChild(warn);\n}\n$3Dmolpromise.then(function() {\nviewer_1754928425451526 = $3Dmol.createViewer(document.getElementById(\"3dmolviewer_1754928425451526\"),{backgroundColor:\"white\"});\nviewer_1754928425451526.zoomTo();\n\tviewer_1754928425451526.addModel(\"15\\n\\nC     -1.785893   -0.046706   -0.464863\\nC     -0.937810   -0.333152    0.759089\\nC      0.144316    0.727972    0.807356\\nC      0.975441    0.659962   -0.435134\\nC      1.722261   -0.581902   -0.780463\\nO      0.542355   -0.244043   -1.421873\\nH     -2.508157    0.772451   -0.256115\\nH     -2.330991   -0.946844   -0.834617\\nH     -0.452539   -1.325367    0.599703\\nH     -1.495853   -0.266289    1.697996\\nH      0.742671    0.679978    1.749723\\nH     -0.418872    1.705993    0.774439\\nH      1.457019    1.597570   -0.751818\\nH      1.746728   -1.360872   -0.002450\\nH      2.599325   -0.527081   -1.440972\\n\",\"xyz\");\n\tviewer_1754928425451526.setStyle({\"stick\": {}, \"sphere\": {\"scale\": 0.3}});\n\tviewer_1754928425451526.zoomTo();\nviewer_1754928425451526.render();\n});\n</script>",
      "text/html": [
       "<div id=\"3dmolviewer_1754928425451526\"  style=\"position: relative; width: 640px; height: 480px;\">\n",
       "        <p id=\"3dmolwarning_1754928425451526\" style=\"background-color:#ffcccc;color:black\">3Dmol.js failed to load for some reason.  Please check your browser console for error messages.<br></p>\n",
       "        </div>\n",
       "<script>\n",
       "\n",
       "var loadScriptAsync = function(uri){\n",
       "  return new Promise((resolve, reject) => {\n",
       "    //this is to ignore the existence of requirejs amd\n",
       "    var savedexports, savedmodule;\n",
       "    if (typeof exports !== 'undefined') savedexports = exports;\n",
       "    else exports = {}\n",
       "    if (typeof module !== 'undefined') savedmodule = module;\n",
       "    else module = {}\n",
       "\n",
       "    var tag = document.createElement('script');\n",
       "    tag.src = uri;\n",
       "    tag.async = true;\n",
       "    tag.onload = () => {\n",
       "        exports = savedexports;\n",
       "        module = savedmodule;\n",
       "        resolve();\n",
       "    };\n",
       "  var firstScriptTag = document.getElementsByTagName('script')[0];\n",
       "  firstScriptTag.parentNode.insertBefore(tag, firstScriptTag);\n",
       "});\n",
       "};\n",
       "\n",
       "if(typeof $3Dmolpromise === 'undefined') {\n",
       "$3Dmolpromise = null;\n",
       "  $3Dmolpromise = loadScriptAsync('https://cdn.jsdelivr.net/npm/3dmol@2.5.2/build/3Dmol-min.js');\n",
       "}\n",
       "\n",
       "var viewer_1754928425451526 = null;\n",
       "var warn = document.getElementById(\"3dmolwarning_1754928425451526\");\n",
       "if(warn) {\n",
       "    warn.parentNode.removeChild(warn);\n",
       "}\n",
       "$3Dmolpromise.then(function() {\n",
       "viewer_1754928425451526 = $3Dmol.createViewer(document.getElementById(\"3dmolviewer_1754928425451526\"),{backgroundColor:\"white\"});\n",
       "viewer_1754928425451526.zoomTo();\n",
       "\tviewer_1754928425451526.addModel(\"15\\n\\nC     -1.785893   -0.046706   -0.464863\\nC     -0.937810   -0.333152    0.759089\\nC      0.144316    0.727972    0.807356\\nC      0.975441    0.659962   -0.435134\\nC      1.722261   -0.581902   -0.780463\\nO      0.542355   -0.244043   -1.421873\\nH     -2.508157    0.772451   -0.256115\\nH     -2.330991   -0.946844   -0.834617\\nH     -0.452539   -1.325367    0.599703\\nH     -1.495853   -0.266289    1.697996\\nH      0.742671    0.679978    1.749723\\nH     -0.418872    1.705993    0.774439\\nH      1.457019    1.597570   -0.751818\\nH      1.746728   -1.360872   -0.002450\\nH      2.599325   -0.527081   -1.440972\\n\",\"xyz\");\n",
       "\tviewer_1754928425451526.setStyle({\"stick\": {}, \"sphere\": {\"scale\": 0.3}});\n",
       "\tviewer_1754928425451526.zoomTo();\n",
       "viewer_1754928425451526.render();\n",
       "});\n",
       "</script>"
      ]
     },
     "metadata": {},
     "output_type": "display_data"
    },
    {
     "data": {
      "text/plain": [
       "<py3Dmol.view at 0x787cfa367750>"
      ]
     },
     "execution_count": 6,
     "metadata": {},
     "output_type": "execute_result"
    }
   ],
   "source": [
    "import numpy\n",
    "import py3Dmol\n",
    "\n",
    "from rdkit import Chem\n",
    "from rdkit.Chem import AllChem\n",
    "\n",
    "smiles = \"[CH2]CCC1CO1\"\n",
    "\n",
    "mol = Chem.MolFromSmiles(smiles)\n",
    "mol = Chem.AddHs(mol)\n",
    "\n",
    "AllChem.EmbedMolecule(mol)\n",
    "\n",
    "xyz = Chem.MolToXYZBlock(mol)\n",
    "\n",
    "print(xyz)\n",
    "\n",
    "viewer = py3Dmol.view()\n",
    "viewer.addModel(Chem.MolToXYZBlock(mol), \"xyz\")\n",
    "viewer.setStyle({\"stick\": {}, \"sphere\": {\"scale\": 0.3}})\n",
    "viewer.zoomTo()\n",
    "#viewer.show()"
   ]
  }
 ],
 "metadata": {
  "kernelspec": {
   "display_name": "default",
   "language": "python",
   "name": "python3"
  },
  "language_info": {
   "codemirror_mode": {
    "name": "ipython",
    "version": 3
   },
   "file_extension": ".py",
   "mimetype": "text/x-python",
   "name": "python",
   "nbconvert_exporter": "python",
   "pygments_lexer": "ipython3",
   "version": "3.13.5"
  }
 },
 "nbformat": 4,
 "nbformat_minor": 5
}
