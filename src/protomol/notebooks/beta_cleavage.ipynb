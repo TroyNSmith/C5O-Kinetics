{
 "cells": [
  {
   "cell_type": "markdown",
   "id": "5d083b45",
   "metadata": {},
   "source": [
    "# Generate SMILES and Images of Beta-Cleavage Mechanism"
   ]
  },
  {
   "cell_type": "code",
   "execution_count": 1,
   "id": "5402f827",
   "metadata": {},
   "outputs": [],
   "source": [
    "smiles_str = \"[CH2]COO\"\n"
   ]
  },
  {
   "cell_type": "code",
   "execution_count": 3,
   "id": "1884ce0f",
   "metadata": {},
   "outputs": [
    {
     "ename": "ModuleNotFoundError",
     "evalue": "No module named 'protopilot'",
     "output_type": "error",
     "traceback": [
      "\u001b[31m---------------------------------------------------------------------------\u001b[39m",
      "\u001b[31mModuleNotFoundError\u001b[39m                       Traceback (most recent call last)",
      "\u001b[36mCell\u001b[39m\u001b[36m \u001b[39m\u001b[32mIn[3]\u001b[39m\u001b[32m, line 9\u001b[39m\n\u001b[32m      5\u001b[39m \u001b[38;5;28;01mfrom\u001b[39;00m\u001b[38;5;250m \u001b[39m\u001b[34;01mrdkit\u001b[39;00m\u001b[34;01m.\u001b[39;00m\u001b[34;01mChem\u001b[39;00m\u001b[38;5;250m \u001b[39m\u001b[38;5;28;01mimport\u001b[39;00m Draw\n\u001b[32m      7\u001b[39m sys.path.append(\u001b[33m\"\u001b[39m\u001b[33m..\u001b[39m\u001b[33m\"\u001b[39m)\n\u001b[32m----> \u001b[39m\u001b[32m9\u001b[39m \u001b[38;5;28;01mfrom\u001b[39;00m\u001b[38;5;250m \u001b[39m\u001b[34;01mprotopilot\u001b[39;00m\u001b[34;01m.\u001b[39;00m\u001b[34;01mmechanisms\u001b[39;00m\u001b[34;01m.\u001b[39;00m\u001b[34;01msmi\u001b[39;00m\u001b[38;5;250m \u001b[39m\u001b[38;5;28;01mimport\u001b[39;00m iterate\n\u001b[32m     11\u001b[39m mol = Chem.MolFromSmiles(smiles_str)\n\u001b[32m     13\u001b[39m output = iterate(smiles_str, [smiles_str])\n",
      "\u001b[31mModuleNotFoundError\u001b[39m: No module named 'protopilot'"
     ]
    }
   ],
   "source": [
    "import sys\n",
    "from rdkit import Chem\n",
    "from pathlib import Path\n",
    "import pandas as pd\n",
    "from rdkit.Chem import Draw\n",
    "\n",
    "sys.path.append(\"..\")\n",
    "\n",
    "from protopilot.mechanisms.smi import iterate\n",
    "\n",
    "mol = Chem.MolFromSmiles(smiles_str)\n",
    "\n",
    "output = iterate(smiles_str, [smiles_str])\n",
    "df = pd.DataFrame(output)\n",
    "header = [\"Initial\"]\n",
    "for i in range((len(df.columns) - 1) // 3):\n",
    "    header += [\n",
    "        f\"Transition {i + 1}\",\n",
    "        f\"Stable Product {i + 1}\",\n",
    "        f\"Radical Product {i + 1}\",\n",
    "    ]\n",
    "\n",
    "for path in output:\n",
    "    transitions = path[1::3]  # Extract transition states\n",
    "    stable_products = path[2::3]  # Extract stable products\n",
    "    radicals = path[3::3]  # Extract radical products\n",
    "    # Build a single string: start with smiles_str, then for each step add transition, stable + radical\n",
    "    result_str = smiles_str\n",
    "    for t, s, r in zip(transitions, stable_products, radicals):\n",
    "        result_str += f\" -> {t} -> {s} + {r}\"\n",
    "    print(result_str)\n",
    "    # Filter out None values and those containing \"Check for resonance\"\n",
    "    smiles_list = [s for s in path if s is not None and \"Check for resonance\" not in s]\n",
    "    mols = [Chem.MolFromSmiles(s) for s in smiles_list]\n",
    "    # Remove any None molecules (in case of invalid SMILES)\n",
    "    mols = [m for m in mols if m is not None]\n",
    "    if mols:\n",
    "        img = Draw.MolsToGridImage(\n",
    "            mols, molsPerRow=5, subImgSize=(200, 200), legends=smiles_list\n",
    "        )\n",
    "        display(img)\n"
   ]
  },
  {
   "cell_type": "code",
   "execution_count": 1,
   "id": "00b58277",
   "metadata": {},
   "outputs": [],
   "source": [
    "smiles = r\"[CH2]CCC1CO1\""
   ]
  },
  {
   "cell_type": "code",
   "execution_count": 2,
   "id": "9fb223c9",
   "metadata": {},
   "outputs": [
    {
     "data": {
      "image/jpeg": "[encoded data removed]",
      "image/png": "[encoded data removed]",
      "text/plain": [
       "<PIL.PngImagePlugin.PngImageFile image mode=RGB size=300x300>"
      ]
     },
     "metadata": {},
     "output_type": "display_data"
    }
   ],
   "source": [
    "# Just drawing the original molecule with highlighted radicals\n",
    "from rdkit.Chem import Draw\n",
    "from rdkit import Chem\n",
    "\n",
    "# Drawing\n",
    "mol = Chem.MolFromSmiles(smiles)\n",
    "img = Draw.MolToImage(\n",
    "    mol,\n",
    "    molsPerRow=1,\n",
    "    subImgSize=(200, 200),\n",
    "    highlightAtomLists=[\n",
    "        [atom.GetIdx() for atom in mol.GetAtoms() if atom.GetNumRadicalElectrons() > 0]\n",
    "    ],\n",
    "    highlightAtomColors=[\n",
    "        {\n",
    "            atom.GetIdx(): (1.0, 0.0, 0.0)\n",
    "            for atom in mol.GetAtoms()\n",
    "            if atom.GetNumRadicalElectrons() > 0\n",
    "        }\n",
    "    ],\n",
    "    highlightAtomRadii=[\n",
    "        {\n",
    "            atom.GetIdx(): 0.6\n",
    "            for atom in mol.GetAtoms()\n",
    "            if atom.GetNumRadicalElectrons() > 0\n",
    "        }\n",
    "    ],\n",
    ")\n",
    "\n",
    "display(img)"
   ]
  }
 ],
 "metadata": {
  "kernelspec": {
   "display_name": "default",
   "language": "python",
   "name": "python3"
  },
  "language_info": {
   "codemirror_mode": {
    "name": "ipython",
    "version": 3
   },
   "file_extension": ".py",
   "mimetype": "text/x-python",
   "name": "python",
   "nbconvert_exporter": "python",
   "pygments_lexer": "ipython3",
   "version": "3.12.11"
  }
 },
 "nbformat": 4,
 "nbformat_minor": 5
}
