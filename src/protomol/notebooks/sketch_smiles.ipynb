{
 "cells": [
  {
   "cell_type": "code",
   "execution_count": null,
   "metadata": {},
   "outputs": [
    {
     "ename": "TypeError",
     "evalue": "No registered converter was able to produce a C++ rvalue of type std::__cxx11::basic_string<wchar_t, std::char_traits<wchar_t>, std::allocator<wchar_t> > from this Python object of type list",
     "output_type": "error",
     "traceback": [
      "\u001b[31m---------------------------------------------------------------------------\u001b[39m",
      "\u001b[31mTypeError\u001b[39m                                 Traceback (most recent call last)",
      "\u001b[36mCell\u001b[39m\u001b[36m \u001b[39m\u001b[32mIn[5]\u001b[39m\u001b[32m, line 9\u001b[39m\n\u001b[32m      7\u001b[39m mols = []\n\u001b[32m      8\u001b[39m \u001b[38;5;28;01mfor\u001b[39;00m s \u001b[38;5;129;01min\u001b[39;00m smiles:\n\u001b[32m----> \u001b[39m\u001b[32m9\u001b[39m     mols.append(\u001b[43mChem\u001b[49m\u001b[43m.\u001b[49m\u001b[43mMolFromSmiles\u001b[49m\u001b[43m(\u001b[49m\u001b[43msmiles\u001b[49m\u001b[43m)\u001b[49m)\n\u001b[32m     10\u001b[39m img = Draw.MolToImage(\n\u001b[32m     11\u001b[39m     mols,\n\u001b[32m     12\u001b[39m     molsPerRow=\u001b[32m2\u001b[39m,\n\u001b[32m     13\u001b[39m     subImgSize=(\u001b[32m200\u001b[39m, \u001b[32m200\u001b[39m),\n\u001b[32m     14\u001b[39m )\n\u001b[32m     16\u001b[39m display(img)\n",
      "\u001b[31mTypeError\u001b[39m: No registered converter was able to produce a C++ rvalue of type std::__cxx11::basic_string<wchar_t, std::char_traits<wchar_t>, std::allocator<wchar_t> > from this Python object of type list"
     ]
    }
   ],
   "source": [
    "from rdkit.Chem import Draw\n",
    "from rdkit import Chem\n",
    "\n",
    "# smiles = str(input(\"Enter a SMILES string: \")).upper()\n",
    "\n",
    "mol = Chem.MolFromSmiles(smiles)\n",
    "\n",
    "img = Draw.MolToImage(\n",
    "    mol,\n",
    "    molsPerRow=1,\n",
    "    subImgSize=(200, 200),\n",
    "    highlightAtomLists=[\n",
    "        [atom.GetIdx() for atom in mol.GetAtoms() if atom.GetNumRadicalElectrons() > 0]\n",
    "    ],\n",
    "    highlightAtomColors=[\n",
    "        {\n",
    "            atom.GetIdx(): (1.0, 0.0, 0.0)\n",
    "            for atom in mol.GetAtoms()\n",
    "            if atom.GetNumRadicalElectrons() > 0\n",
    "        }\n",
    "    ],\n",
    "    highlightAtomRadii=[\n",
    "        {\n",
    "            atom.GetIdx(): 0.6\n",
    "            for atom in mol.GetAtoms()\n",
    "            if atom.GetNumRadicalElectrons() > 0\n",
    "        }\n",
    "    ],\n",
    ")\n",
    "\n",
    "display(img)"
   ]
  }
 ],
 "metadata": {
  "kernelspec": {
   "display_name": "default",
   "language": "python",
   "name": "python3"
  },
  "language_info": {
   "codemirror_mode": {
    "name": "ipython",
    "version": 3
   },
   "file_extension": ".py",
   "mimetype": "text/x-python",
   "name": "python",
   "nbconvert_exporter": "python",
   "pygments_lexer": "ipython3",
   "version": "3.12.11"
  }
 },
 "nbformat": 4,
 "nbformat_minor": 2
}
